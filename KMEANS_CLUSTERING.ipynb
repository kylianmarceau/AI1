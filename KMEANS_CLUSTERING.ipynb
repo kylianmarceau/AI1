{
 "cells": [
  {
   "cell_type": "code",
   "execution_count": 1,
   "id": "37376b47",
   "metadata": {},
   "outputs": [],
   "source": [
    "import numpy as np\n",
    "import pandas as pd\n",
    "import matplotlib.pyplot as plt\n",
    "from pathlib import Path\n",
    "from typing import List, Tuple"
   ]
  },
  {
   "cell_type": "code",
   "execution_count": 2,
   "id": "9d4e0e3c",
   "metadata": {},
   "outputs": [],
   "source": [
    "def load_dataset(path: str) -> np.ndarray:\n",
    "    \"\"\"Load dataset from CSV; generate synthetic data if not available.\"\"\"\n",
    "    csv_path = Path(path)\n",
    "    if csv_path.exists():\n",
    "        try:\n",
    "            df = pd.read_csv(csv_path)\n",
    "            # if file is a git-lfs pointer, it will only have few lines/columns\n",
    "            if df.shape[1] > 1:\n",
    "                return df.values.astype(float)\n",
    "        except Exception:\n",
    "            pass\n",
    "    # fallback synthetic data\n",
    "    rng = np.random.default_rng(0)\n",
    "    X = np.vstack([\n",
    "        rng.normal(loc=-2, scale=0.5, size=(100, 2)),\n",
    "        rng.normal(loc=0, scale=0.5, size=(100, 2)),\n",
    "        rng.normal(loc=2, scale=0.5, size=(100, 2)),\n",
    "    ])\n",
    "    print(\"Warning: Using synthetic dataset with three clusters.\")\n",
    "    return X"
   ]
  },
  {
   "cell_type": "code",
   "execution_count": 3,
   "id": "ed483deb",
   "metadata": {},
   "outputs": [],
   "source": [
    "def initialize_centroids(X: np.ndarray, k: int, rng: np.random.Generator, method: str) -> np.ndarray:\n",
    "    if method == \"random\":\n",
    "        indices = rng.choice(X.shape[0], size=k, replace=False)\n",
    "        return X[indices]\n",
    "    elif method == \"kmeans++\":\n",
    "        centroids = []\n",
    "        # choose first centroid randomly\n",
    "        centroids.append(X[rng.integers(0, X.shape[0])])\n",
    "        for _ in range(1, k):\n",
    "            dist_sq = np.min(np.linalg.norm(X[:, None, :] - np.array(centroids)[None, :, :], axis=2) ** 2, axis=1)\n",
    "            probs = dist_sq / dist_sq.sum()\n",
    "            centroids.append(X[rng.choice(X.shape[0], p=probs)])\n",
    "        return np.array(centroids)\n",
    "    else:\n",
    "        raise ValueError(f\"Unknown init method: {method}\")"
   ]
  },
  {
   "cell_type": "code",
   "execution_count": 4,
   "id": "969e1020",
   "metadata": {},
   "outputs": [],
   "source": [
    "def assign_clusters(X: np.ndarray, centroids: np.ndarray) -> np.ndarray:\n",
    "    distances = np.linalg.norm(X[:, None, :] - centroids[None, :, :], axis=2)\n",
    "    return np.argmin(distances, axis=1)"
   ]
  },
  {
   "cell_type": "code",
   "execution_count": 5,
   "id": "0c61ff29",
   "metadata": {},
   "outputs": [],
   "source": [
    "def compute_centroids(X: np.ndarray, labels: np.ndarray, k: int) -> np.ndarray:\n",
    "    centroids = np.zeros((k, X.shape[1]))\n",
    "    for i in range(k):\n",
    "        cluster_points = X[labels == i]\n",
    "        if len(cluster_points) == 0:\n",
    "            centroids[i] = X[np.random.randint(0, X.shape[0])]\n",
    "        else:\n",
    "            centroids[i] = cluster_points.mean(axis=0)\n",
    "    return centroids"
   ]
  },
  {
   "cell_type": "code",
   "execution_count": 6,
   "id": "fd5153db",
   "metadata": {},
   "outputs": [],
   "source": [
    "def inertia(X: np.ndarray, labels: np.ndarray, centroids: np.ndarray) -> float:\n",
    "    return np.sum((X - centroids[labels]) ** 2)"
   ]
  },
  {
   "cell_type": "code",
   "execution_count": 7,
   "id": "731c87f6",
   "metadata": {},
   "outputs": [],
   "source": [
    "def kmeans(X: np.ndarray, k: int, init: str, max_iters: int = 300, tol: float = 1e-4, seed: int = None) -> Tuple[np.ndarray, np.ndarray, int, List[float]]:\n",
    "    rng = np.random.default_rng(seed)\n",
    "    centroids = initialize_centroids(X, k, rng, init)\n",
    "    history = []\n",
    "    for it in range(max_iters):\n",
    "        labels = assign_clusters(X, centroids)\n",
    "        current_inertia = inertia(X, labels, centroids)\n",
    "        history.append(current_inertia)\n",
    "        new_centroids = compute_centroids(X, labels, k)\n",
    "        shift = np.linalg.norm(new_centroids - centroids)\n",
    "        centroids = new_centroids\n",
    "        if shift < tol:\n",
    "            break\n",
    "    labels = assign_clusters(X, centroids)\n",
    "    history.append(inertia(X, labels, centroids))\n",
    "    return centroids, labels, it + 1, history"
   ]
  },
  {
   "cell_type": "code",
   "execution_count": 8,
   "id": "82763d97",
   "metadata": {},
   "outputs": [],
   "source": [
    "def adjusted_rand_index(labels_true: np.ndarray, labels_pred: np.ndarray) -> float:\n",
    "    # contingency table\n",
    "    n = len(labels_true)\n",
    "    labels_true = labels_true.astype(int)\n",
    "    labels_pred = labels_pred.astype(int)\n",
    "    classes = np.unique(labels_true)\n",
    "    clusters = np.unique(labels_pred)\n",
    "    contingency = np.zeros((len(classes), len(clusters)), dtype=int)\n",
    "    for i, c in enumerate(classes):\n",
    "        for j, k in enumerate(clusters):\n",
    "            contingency[i, j] = np.sum((labels_true == c) & (labels_pred == k))\n",
    "    sum_comb_c = np.sum([c * (c - 1) // 2 for c in contingency.sum(axis=1)])\n",
    "    sum_comb_k = np.sum([c * (c - 1) // 2 for c in contingency.sum(axis=0)])\n",
    "    sum_comb = np.sum([c * (c - 1) // 2 for c in contingency.ravel()])\n",
    "    total_comb = n * (n - 1) // 2\n",
    "    expected = sum_comb_c * sum_comb_k / total_comb\n",
    "    max_index = 0.5 * (sum_comb_c + sum_comb_k)\n",
    "    return (sum_comb - expected) / (max_index - expected)"
   ]
  },
  {
   "cell_type": "code",
   "execution_count": 9,
   "id": "e100431c",
   "metadata": {},
   "outputs": [],
   "source": [
    "def run_experiments(X: np.ndarray, k: int, init: str, runs: int = 5) -> dict:\n",
    "    results = []\n",
    "    histories = []\n",
    "    labels_list = []\n",
    "    for seed in range(runs):\n",
    "        centroids, labels, iters, history = kmeans(X, k, init, seed=seed)\n",
    "        results.append({\"seed\": seed, \"iterations\": iters, \"final_inertia\": history[-1]})\n",
    "        histories.append(history)\n",
    "        labels_list.append(labels)\n",
    "    # compute stability via pairwise ARI\n",
    "    ari_scores = []\n",
    "    for i in range(len(labels_list)):\n",
    "        for j in range(i + 1, len(labels_list)):\n",
    "            ari_scores.append(adjusted_rand_index(labels_list[i], labels_list[j]))\n",
    "    stability = float(np.mean(ari_scores)) if ari_scores else float('nan')\n",
    "    return {\"results\": results, \"histories\": histories, \"stability\": stability}"
   ]
  },
  {
   "cell_type": "code",
   "execution_count": 10,
   "id": "ba5fa53f",
   "metadata": {},
   "outputs": [],
   "source": [
    "def plot_histories(histories: List[List[float]], title: str, filename: str):\n",
    "    plt.figure(figsize=(6, 4))\n",
    "    for h in histories:\n",
    "        plt.plot(range(len(h)), h, alpha=0.7)\n",
    "    plt.xlabel(\"Iteration\")\n",
    "    plt.ylabel(\"Inertia\")\n",
    "    plt.title(title)\n",
    "    plt.tight_layout()\n",
    "    plt.savefig(filename)\n",
    "    plt.close()"
   ]
  },
  {
   "cell_type": "code",
   "execution_count": 11,
   "id": "30fb18c0",
   "metadata": {},
   "outputs": [
    {
     "name": "stdout",
     "output_type": "stream",
     "text": [
      "Warning: Using synthetic dataset with three clusters.\n",
      "Random initialization:\n",
      "{'seed': 0, 'iterations': 3, 'final_inertia': np.float64(147.6426766146662)}\n",
      "{'seed': 1, 'iterations': 4, 'final_inertia': np.float64(147.6426766146662)}\n",
      "{'seed': 2, 'iterations': 6, 'final_inertia': np.float64(147.6426766146662)}\n",
      "{'seed': 3, 'iterations': 6, 'final_inertia': np.float64(147.6426766146662)}\n",
      "{'seed': 4, 'iterations': 5, 'final_inertia': np.float64(147.6426766146662)}\n",
      "Average ARI stability: 1.0\n",
      "\n",
      "K-means++ initialization:\n",
      "{'seed': 0, 'iterations': 6, 'final_inertia': np.float64(147.6426766146662)}\n",
      "{'seed': 1, 'iterations': 3, 'final_inertia': np.float64(147.6426766146662)}\n",
      "{'seed': 2, 'iterations': 4, 'final_inertia': np.float64(147.6426766146662)}\n",
      "{'seed': 3, 'iterations': 3, 'final_inertia': np.float64(147.6426766146662)}\n",
      "{'seed': 4, 'iterations': 7, 'final_inertia': np.float64(147.6426766146662)}\n",
      "Average ARI stability: 1.0\n"
     ]
    }
   ],
   "source": [
    "data_path = Path(\"CSC2042S-Assignment1-Data/cleaned_data.csv\")\n",
    "X = load_dataset(data_path)\n",
    "k = 3\n",
    "runs = 5\n",
    "\n",
    "Path(\"figures\").mkdir(exist_ok=True)\n",
    "\n",
    "random_exp = run_experiments(X, k, init=\"random\", runs=runs)\n",
    "kpp_exp = run_experiments(X, k, init=\"kmeans++\", runs=runs)\n",
    "\n",
    "plot_histories(random_exp[\"histories\"], \"Random Initialization\", \"figures/random_init_convergence.png\")\n",
    "plot_histories(kpp_exp[\"histories\"], \"K-means++ Initialization\", \"figures/kmeanspp_init_convergence.png\")\n",
    "\n",
    "print(\"Random initialization:\")\n",
    "for r in random_exp[\"results\"]:\n",
    "    print(r)\n",
    "print(\"Average ARI stability:\", random_exp[\"stability\"])\n",
    "\n",
    "print(\"\\nK-means++ initialization:\")\n",
    "for r in kpp_exp[\"results\"]:\n",
    "    print(r)\n",
    "print(\"Average ARI stability:\", kpp_exp[\"stability\"])"
   ]
  }
 ],
 "metadata": {
  "kernelspec": {
   "display_name": "Python 3",
   "language": "python",
   "name": "python3"
  },
  "language_info": {
   "codemirror_mode": {
    "name": "ipython",
    "version": 3
   },
   "file_extension": ".py",
   "mimetype": "text/x-python",
   "name": "python",
   "nbconvert_exporter": "python",
   "pygments_lexer": "ipython3",
   "version": "3.13.2"
  }
 },
 "nbformat": 4,
 "nbformat_minor": 5
}
