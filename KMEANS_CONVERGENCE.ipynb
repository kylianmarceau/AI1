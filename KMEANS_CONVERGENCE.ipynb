{
 "nbformat_minor": 5, 
 "nbformat": 4, 
 "cells": [
  {
   "cell_type": "code", 
   "execution_count": null, 
   "outputs": [], 
   "source": [
    "import numpy as np\n", 
    "import pandas as pd\n", 
    "import matplotlib.pyplot as plt\n", 
    "from pathlib import Path\n", 
    "from typing import List, Tuple"
   ], 
   "id": "37376b47", 
   "metadata": {}
  }, 
  {
   "cell_type": "code", 
   "execution_count": null, 
   "outputs": [], 
   "source": [
    "def load_dataset(path: str) -> np.ndarray:\n", 
    "    \"\"\"Load dataset from CSV; generate synthetic data if not available.\"\"\"\n", 
    "    \n", 
    "    csv_path = Path(path)\n", 
    "    if csv_path.exists():\n", 
    "        try:\n", 
    "            df = pd.read_csv(csv_path)\n", 
    "            # if file is a git-lfs pointer, it will only have few lines/columns\n", 
    "            if df.shape[1] > 1:\n", 
    "                return df.values.astype(float)\n", 
    "        except Exception:\n", 
    "            pass\n", 
    "    # fallback synthetic data\n", 
    "    rng = np.random.default_rng(0)\n", 
    "    X = np.vstack([\n", 
    "        rng.normal(loc=-2, scale=0.5, size=(100, 2)),\n", 
    "        rng.normal(loc=0, scale=0.5, size=(100, 2)),\n", 
    "        rng.normal(loc=2, scale=0.5, size=(100, 2)),\n", 
    "    ])\n", 
    "    print(\"Warning: Using synthetic dataset with three clusters.\")\n", 
    "    return X"
   ], 
   "id": "9d4e0e3c", 
   "metadata": {}
  }, 
  {
   "cell_type": "code", 
   "execution_count": null, 
   "outputs": [], 
   "source": [
    "def initialize_centroids(X: np.ndarray, k: int, rng: np.random.Generator, method: str) -> np.ndarray:\n", 
    "    if method == \"random\":\n", 
    "        indices = rng.choice(X.shape[0], size=k, replace=False)\n", 
    "        return X[indices]\n", 
    "    elif method == \"kmeans++\":\n", 
    "        centroids = []\n", 
    "        # choose first centroid randomly\n", 
    "        centroids.append(X[rng.integers(0, X.shape[0])])\n", 
    "        for _ in range(1, k):\n", 
    "            dist_sq = np.min(np.linalg.norm(X[:, None, :] - np.array(centroids)[None, :, :], axis=2) ** 2, axis=1)\n", 
    "            probs = dist_sq / dist_sq.sum()\n", 
    "            centroids.append(X[rng.choice(X.shape[0], p=probs)])\n", 
    "        return np.array(centroids)\n", 
    "    else:\n", 
    "        raise ValueError(f\"Unknown init method: {method}\")"
   ], 
   "id": "ed483deb", 
   "metadata": {}
  }, 
  {
   "cell_type": "code", 
   "execution_count": null, 
   "outputs": [], 
   "source": [
    "def assign_clusters(X: np.ndarray, centroids: np.ndarray) -> np.ndarray:\n", 
    "    distances = np.linalg.norm(X[:, None, :] - centroids[None, :, :], axis=2)\n", 
    "    return np.argmin(distances, axis=1)"
   ], 
   "id": "969e1020", 
   "metadata": {}
  }, 
  {
   "cell_type": "code", 
   "execution_count": null, 
   "outputs": [], 
   "source": [
    "def compute_centroids(X: np.ndarray, labels: np.ndarray, k: int) -> np.ndarray:\n", 
    "    centroids = np.zeros((k, X.shape[1]))\n", 
    "    for i in range(k):\n", 
    "        cluster_points = X[labels == i]\n", 
    "        if len(cluster_points) == 0:\n", 
    "            centroids[i] = X[np.random.randint(0, X.shape[0])]\n", 
    "        else:\n", 
    "            centroids[i] = cluster_points.mean(axis=0)\n", 
    "    return centroids"
   ], 
   "id": "0c61ff29", 
   "metadata": {}
  }, 
  {
   "cell_type": "code", 
   "execution_count": null, 
   "outputs": [], 
   "source": [
    "def inertia(X: np.ndarray, labels: np.ndarray, centroids: np.ndarray) -> float:\n", 
    "    return np.sum((X - centroids[labels]) ** 2)"
   ], 
   "id": "fd5153db", 
   "metadata": {}
  }, 
  {
   "cell_type": "code", 
   "execution_count": null, 
   "outputs": [], 
   "source": [
    "def kmeans(X: np.ndarray, k: int, init: str, max_iters: int = 300, tol: float = 1e-4, seed: int = None) -> Tuple[np.ndarray, np.ndarray, int, List[float]]:\n", 
    "    rng = np.random.default_rng(seed)\n", 
    "    centroids = initialize_centroids(X, k, rng, init)\n", 
    "    history = []\n", 
    "    for it in range(max_iters):\n", 
    "        labels = assign_clusters(X, centroids)\n", 
    "        current_inertia = inertia(X, labels, centroids)\n", 
    "        history.append(current_inertia)\n", 
    "        new_centroids = compute_centroids(X, labels, k)\n", 
    "        shift = np.linalg.norm(new_centroids - centroids)\n", 
    "        centroids = new_centroids\n", 
    "        if shift < tol:\n", 
    "            break\n", 
    "    labels = assign_clusters(X, centroids)\n", 
    "    history.append(inertia(X, labels, centroids))\n", 
    "    return centroids, labels, it + 1, history"
   ], 
   "id": "731c87f6", 
   "metadata": {}
  }, 
  {
   "cell_type": "code", 
   "execution_count": null, 
   "outputs": [], 
   "source": [
    "data_path = Path(\"CSC2042S-Assignment1-Data/cleaned_data.csv\")\n", 
    "X = load_dataset(data_path)\n", 
    "k = 3\n", 
    "runs = 5"
   ], 
   "id": "30fb18c0", 
   "metadata": {}
  }, 
  {
   "source": [
    "### 3. Convergence Criteria\n", 
    "This section explores different stopping rules for the K-means algorithm."
   ], 
   "cell_type": "markdown", 
   "id": "74621156", 
   "metadata": {}
  }, 
  {
   "cell_type": "code", 
   "execution_count": null, 
   "outputs": [], 
   "source": [
    "def kmeans_convergence(\n", 
    "    X: np.ndarray,\n", 
    "    k: int,\n", 
    "    init: str,\n", 
    "    max_iters: int = 300,\n", 
    "    centroid_tol: float | None = 1e-4,\n", 
    "    inertia_tol: float | None = None,\n", 
    "    seed: int | None = None,\n", 
    ") -> Tuple[np.ndarray, np.ndarray, int, List[float], List[float]]:\n", 
    "    \"\"\"K-means with configurable convergence criteria.\n", 
    "    \n", 
    "    Returns centroids, labels, iterations, inertia history and centroid-shift history.\"\"\"\n", 
    "    \n", 
    "    rng = np.random.default_rng(seed)\n", 
    "    centroids = initialize_centroids(X, k, rng, init)\n", 
    "    history = []\n", 
    "    shift_history = []\n", 
    "    prev_inertia: float | None = None\n", 
    "    \n", 
    "    for it in range(max_iters):\n", 
    "        labels = assign_clusters(X, centroids)\n", 
    "        current_inertia = inertia(X, labels, centroids)\n", 
    "        history.append(current_inertia)\n", 
    "        \n", 
    "        new_centroids = compute_centroids(X, labels, k)\n", 
    "        shift = np.linalg.norm(new_centroids - centroids)\n", 
    "        shift_history.append(float(shift))\n", 
    "        \n", 
    "        if centroid_tol is not None and shift < centroid_tol:\n", 
    "            centroids = new_centroids\n", 
    "            break\n", 
    "            \n", 
    "        if prev_inertia is not None and inertia_tol is not None:\n", 
    "            if abs(prev_inertia - current_inertia) < inertia_tol:\n", 
    "                centroids = new_centroids\n", 
    "                break\n", 
    "                \n", 
    "        centroids = new_centroids\n", 
    "        prev_inertia = current_inertia\n", 
    "    else:\n", 
    "        labels = assign_clusters(X, centroids)\n", 
    "        history.append(inertia(X, labels, centroids))\n", 
    "        return centroids, labels, max_iters, history, shift_history\n", 
    "    \n", 
    "    labels = assign_clusters(X, centroids)\n", 
    "    history.append(inertia(X, labels, centroids))\n", 
    "    return centroids, labels, it + 1, history, shift_history"
   ], 
   "id": "6d6e40ce", 
   "metadata": {}
  }, 
  {
   "cell_type": "code", 
   "execution_count": null, 
   "outputs": [], 
   "source": [
    "def plot_convergence(history: List[float], shifts: List[float], title: str, filename: str):\n", 
    "    \"\"\"Plot inertia and centroid shift over iterations.\"\"\"\n", 
    "    iters = range(len(history))\n", 
    "    \n", 
    "    plt.figure(figsize=(8,4))\n", 
    "    \n", 
    "    plt.subplot(1,2,1)\n", 
    "    plt.plot(iters, history, marker='o')\n", 
    "    plt.xlabel('Iteration')\n", 
    "    plt.ylabel('Inertia')\n", 
    "    \n", 
    "    plt.subplot(1,2,2)\n", 
    "    plt.plot(range(1, len(shifts)+1), shifts, marker='o')\n", 
    "    plt.xlabel('Iteration')\n", 
    "    plt.ylabel('Centroid shift')\n", 
    "    \n", 
    "    plt.suptitle(title)\n", 
    "    plt.tight_layout()\n", 
    "    plt.savefig(filename)\n", 
    "    plt.close()"
   ], 
   "id": "73206714", 
   "metadata": {}
  }, 
  {
   "cell_type": "code", 
   "execution_count": null, 
   "outputs": [], 
   "source": [
    "# Evaluate different convergence criteria\n", 
    "Path(\"figures\").mkdir(exist_ok=True)\n", 
    "\n", 
    "configs = [\n", 
    "    (\"max_iter_10\", {\"max_iters\": 10, \"centroid_tol\": None, \"inertia_tol\": None}),\n", 
    "    (\"centroid_tol_1e-2\", {\"centroid_tol\": 1e-2}),\n", 
    "    (\"inertia_tol_1e-2\", {\"inertia_tol\": 1e-2}),\n", 
    "]\n", 
    "\n", 
    "for name, params in configs:\n", 
    "    c, lbls, iters, hist, shifts = kmeans_convergence(X, k, init=\"kmeans++\", **params)\n", 
    "    print(f\"{name}: iterations={iters}, final inertia={hist[-1]:.3f}\")\n", 
    "    plot_convergence(hist, shifts, title=name.replace('_', ' '), filename=f\"figures/{name}_convergence.png\")"
   ], 
   "id": "f4a324d5", 
   "metadata": {}
  }
 ], 
 "metadata": {
  "kernelspec": {
   "display_name": "Python 3", 
   "name": "python3", 
   "language": "python"
  }, 
  "language_info": {
   "mimetype": "text/x-python", 
   "nbconvert_exporter": "python", 
   "name": "python", 
   "file_extension": ".py", 
   "version": "3.8.5", 
   "pygments_lexer": "ipython3", 
   "codemirror_mode": {
    "version": 3, 
    "name": "ipython"
   }
  }
 }
}